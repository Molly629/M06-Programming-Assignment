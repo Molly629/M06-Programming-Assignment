{
 "cells": [
  {
   "cell_type": "code",
   "execution_count": 1,
   "id": "bb4b3ada",
   "metadata": {},
   "outputs": [
    {
     "data": {
      "text/plain": [
       "9"
      ]
     },
     "execution_count": 1,
     "metadata": {},
     "output_type": "execute_result"
    }
   ],
   "source": [
    "today_string = open(\"today.txt\", \"w\")\n",
    "today_string.write(\"4/29/2023\")"
   ]
  },
  {
   "cell_type": "code",
   "execution_count": 2,
   "id": "161e7f46",
   "metadata": {},
   "outputs": [
    {
     "name": "stdout",
     "output_type": "stream",
     "text": [
      "4/29/2023\n"
     ]
    }
   ],
   "source": [
    "today_string = open(\"today.txt\", \"r\")\n",
    "print(today_string.read()) "
   ]
  },
  {
   "cell_type": "code",
   "execution_count": 10,
   "id": "d746fcad",
   "metadata": {},
   "outputs": [
    {
     "name": "stdout",
     "output_type": "stream",
     "text": [
      "['4', '29', '2023']\n"
     ]
    }
   ],
   "source": [
    "today_string = open(\"today.txt\", \"r\")\n",
    "date_list = today_string.read()\n",
    "date_parsed = date_list.split('/')"
   ]
  },
  {
   "cell_type": "code",
   "execution_count": 20,
   "id": "55eddda7",
   "metadata": {},
   "outputs": [
    {
     "name": "stdout",
     "output_type": "stream",
     "text": [
      "Date and Time: 2023-04-29 16:39:00.144733\n",
      "Date and Time: 2023-04-29 16:39:00.481953\n",
      "Date and Time: 2023-04-29 16:39:01.395585\n"
     ]
    }
   ],
   "source": [
    "import multiprocessing\n",
    "from datetime import datetime\n",
    "import random\n",
    "\n",
    "def the_time():\n",
    "    now = datetime.now()\n",
    "    print(\"Date and Time: {}\".format(now))\n",
    "    time.sleep(random.random())\n",
    "if __name__ == '__main__':\n",
    "    process1 = multiprocessing.Process(target=the_time())\n",
    "    process2 = multiprocessing.Process(target=the_time())\n",
    "    process3 = multiprocessing.Process(target=the_time())\n",
    "    process1.start()\n",
    "    process2.start()\n",
    "    process3.start()\n",
    "    process1.join()\n",
    "    process2.join()\n",
    "    process3.join()"
   ]
  },
  {
   "cell_type": "code",
   "execution_count": null,
   "id": "97011f27",
   "metadata": {},
   "outputs": [],
   "source": []
  }
 ],
 "metadata": {
  "kernelspec": {
   "display_name": "Python 3 (ipykernel)",
   "language": "python",
   "name": "python3"
  },
  "language_info": {
   "codemirror_mode": {
    "name": "ipython",
    "version": 3
   },
   "file_extension": ".py",
   "mimetype": "text/x-python",
   "name": "python",
   "nbconvert_exporter": "python",
   "pygments_lexer": "ipython3",
   "version": "3.10.9"
  }
 },
 "nbformat": 4,
 "nbformat_minor": 5
}
